{
 "cells": [
  {
   "cell_type": "code",
   "execution_count": null,
   "metadata": {},
   "outputs": [],
   "source": [
    "import os\n",
    "import copy\n",
    "import numpy as np\n",
    "import nibabel as nib\n",
    "from nibabel.testing import data_path"
   ]
  },
  {
   "cell_type": "code",
   "execution_count": null,
   "metadata": {},
   "outputs": [],
   "source": [
    "path = './Images'\n",
    "output_path = './Output'\n",
    "files = os.listdir(path=path)\n",
    "print(len(files))\n",
    "\n",
    "##\n",
    "# Mirror Voxel Data by Defined Axis\n",
    "##\n",
    "def MirrorVoxels(axis_value, original_data):\n",
    "    for slice_number in range(0, int(original_data.shape[0] / 2)):\n",
    "            # Copy Data from Memory (Numpy Uses Shallow Copy)\n",
    "            temporary_slice = copy.deepcopy(original_data[slice_number, :, :])\n",
    "            # Calculate Mirror Index\n",
    "            mirror_idx = original_data.shape[0] - 1 - slice_number\n",
    "            # Offset Additional 1 from Indexing\n",
    "            original_data[slice_number,:,:] = copy.deepcopy(original_data[mirror_idx,:,: ])\n",
    "            # Return Temporary Slice Data to Right Side\n",
    "            original_data[mirror_idx,:,:] = copy.deepcopy(temporary_slice)"
   ]
  },
  {
   "cell_type": "markdown",
   "metadata": {},
   "source": [
    "#### Iterate Through Folder\n",
    "This process iterates through all files in the specified folder. The output is saved in the specified `output_path` folder."
   ]
  },
  {
   "cell_type": "code",
   "execution_count": null,
   "metadata": {},
   "outputs": [],
   "source": [
    "for nfile in range(0,len(files)):\n",
    "    output_name = output_path + \"/flipped_\" + files[nfile]\n",
    "    filepath    = path + \"/\" + files[nfile]\n",
    "    main        = nib.load(filepath)\n",
    "    header      = main.header\n",
    "    main_data   = main.get_fdata() \n",
    "    edited_data = copy.deepcopy(main_data)\n",
    "    \n",
    "    ## Execute Voxel Mirroring Calculations\n",
    "    MirrorVoxels(26, edited_data) \n",
    "    mirror      = nib.Nifti1Image(edited_data, main.affine, main.header)\n",
    "    \n",
    "    ## Export\n",
    "    nib.save(mirror, output_name)"
   ]
  }
 ],
 "metadata": {
  "kernelspec": {
   "display_name": "Python 3",
   "language": "python",
   "name": "python3"
  },
  "language_info": {
   "codemirror_mode": {
    "name": "ipython",
    "version": 3
   },
   "file_extension": ".py",
   "mimetype": "text/x-python",
   "name": "python",
   "nbconvert_exporter": "python",
   "pygments_lexer": "ipython3",
   "version": "3.7.2"
  }
 },
 "nbformat": 4,
 "nbformat_minor": 2
}
